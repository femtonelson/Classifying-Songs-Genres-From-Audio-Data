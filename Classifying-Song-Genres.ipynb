{
 "cells": [
  {
   "cell_type": "markdown",
   "metadata": {},
   "source": [
    "# Summary\n",
    "1. Preparing our dataset\n",
    "2. Pairwise relationships between continuous variables\n",
    "3. Normalizing the feature data\n",
    "4. Principal Component Analysis on our scaled data\n",
    "5. Further visualization of PCA\n",
    "6. Train a decision tree to classify genre\n",
    "7. Compare our decision tree to a logistic regression\n",
    "8. Balance our data for greater performance\n",
    "9. Does balancing our dataset improve model bias?\n",
    "10. Using cross-validation to evaluate our models\n",
    "11. Exporting the model for deployment"
   ]
  },
  {
   "cell_type": "markdown",
   "metadata": {
    "dc": {
     "key": "3"
    },
    "deletable": false,
    "run_control": {
     "frozen": false
    },
    "tags": [
     "context"
    ]
   },
   "source": [
    "# 1. Preparing our dataset\n",
    "\n",
    "Over the past few years, streaming services with huge catalogs have become the primary means through which most people listen to their favorite music. But at the same time, the sheer amount of music on offer can mean users might be a bit overwhelmed when trying to look for newer music that suits their tastes.\n",
    "\n",
    "For this reason, streaming services have looked into means of categorizing music to allow for personalized recommendations. One method involves direct analysis of the raw audio information in a given song, scoring the raw data on a variety of metrics. Today, we'll be examining data compiled by a research group known as The Echo Nest. Our goal is to look through this dataset and classify songs as being either 'Hip-Hop' or 'Rock' - all without listening to a single one ourselves. In doing so, we will learn how to clean our data, do some exploratory data visualization, and use feature reduction towards the goal of feeding our data through some simple machine learning algorithms, such as decision trees and logistic regression.\n",
    "\n",
    "To begin with, let's load the metadata about our tracks alongside the track metrics compiled by The Echo Nest. A song is about more than its title, artist, and number of listens. We have another dataset that has musical features of each track such as danceability and acousticness on a scale from -1 to 1. These exist in two different files, which are in different formats - CSV and JSON. While CSV is a popular file format for denoting tabular data, JSON is another common file format in which databases often return the results of a given query.\n",
    "\n",
    "Let's start by creating two pandas DataFrames out of these files that we can merge so we have features and labels."
   ]
  },
  {
   "cell_type": "code",
   "execution_count": 2,
   "metadata": {
    "dc": {
     "key": "3"
    },
    "scrolled": false,
    "tags": [
     "sample_code"
    ]
   },
   "outputs": [],
   "source": [
    "import pandas as pd\n",
    "\n",
    "# Read in track metadata with genre labels\n",
    "tracks = pd.read_csv('fma-rock-vs-hiphop.csv')\n",
    "\n",
    "# Read in track metrics with the features\n",
    "echonest_metrics = pd.read_json('echonest-metrics.json')\n",
    "\n",
    "# Merge the relevant columns of tracks and echonest_metrics\n",
    "echo_tracks = echonest_metrics.merge(tracks[['track_id', 'genre_top']], on= 'track_id')\n",
    "\n",
    "# Inspect the resultant dataframe\n",
    "echo_tracks.head(6).to_json('test_json.json', orient='records')"
   ]
  },
  {
   "cell_type": "markdown",
   "metadata": {
    "dc": {
     "key": "10"
    },
    "deletable": false,
    "editable": false,
    "run_control": {
     "frozen": true
    },
    "tags": [
     "context"
    ]
   },
   "source": [
    "## 2. Pairwise relationships between continuous variables\n",
    "<p>We typically want to avoid using variables that have strong correlations with each other -- hence avoiding feature redundancy -- for a few reasons:</p>\n",
    "<ul>\n",
    "<li>To keep the model simple and improve interpretability (with many features, we run the risk of overfitting).</li>\n",
    "<li>When our datasets are very large, using fewer features can drastically speed up our computation time.</li>\n",
    "</ul>\n",
    "<p>To get a sense of whether there are any strongly correlated features in our data, we will use built-in functions in the <code>pandas</code> package.</p>"
   ]
  },
  {
   "cell_type": "code",
   "execution_count": 3,
   "metadata": {
    "dc": {
     "key": "10"
    },
    "scrolled": false,
    "tags": [
     "sample_code"
    ]
   },
   "outputs": [
    {
     "data": {
      "text/html": [
       "<style  type=\"text/css\" >\n",
       "    #T_3a43fe2e_4504_11ea_b945_d8d090016e4frow0_col0 {\n",
       "            background-color:  #023858;\n",
       "            color:  #f1f1f1;\n",
       "        }    #T_3a43fe2e_4504_11ea_b945_d8d090016e4frow0_col1 {\n",
       "            background-color:  #fff7fb;\n",
       "            color:  #000000;\n",
       "        }    #T_3a43fe2e_4504_11ea_b945_d8d090016e4frow0_col2 {\n",
       "            background-color:  #d2d2e7;\n",
       "            color:  #000000;\n",
       "        }    #T_3a43fe2e_4504_11ea_b945_d8d090016e4frow0_col3 {\n",
       "            background-color:  #b5c4df;\n",
       "            color:  #000000;\n",
       "        }    #T_3a43fe2e_4504_11ea_b945_d8d090016e4frow0_col4 {\n",
       "            background-color:  #f5eef6;\n",
       "            color:  #000000;\n",
       "        }    #T_3a43fe2e_4504_11ea_b945_d8d090016e4frow0_col5 {\n",
       "            background-color:  #e9e5f1;\n",
       "            color:  #000000;\n",
       "        }    #T_3a43fe2e_4504_11ea_b945_d8d090016e4frow0_col6 {\n",
       "            background-color:  #d1d2e6;\n",
       "            color:  #000000;\n",
       "        }    #T_3a43fe2e_4504_11ea_b945_d8d090016e4frow0_col7 {\n",
       "            background-color:  #e1dfed;\n",
       "            color:  #000000;\n",
       "        }    #T_3a43fe2e_4504_11ea_b945_d8d090016e4frow0_col8 {\n",
       "            background-color:  #dedcec;\n",
       "            color:  #000000;\n",
       "        }    #T_3a43fe2e_4504_11ea_b945_d8d090016e4frow1_col0 {\n",
       "            background-color:  #fff7fb;\n",
       "            color:  #000000;\n",
       "        }    #T_3a43fe2e_4504_11ea_b945_d8d090016e4frow1_col1 {\n",
       "            background-color:  #023858;\n",
       "            color:  #f1f1f1;\n",
       "        }    #T_3a43fe2e_4504_11ea_b945_d8d090016e4frow1_col2 {\n",
       "            background-color:  #e0dded;\n",
       "            color:  #000000;\n",
       "        }    #T_3a43fe2e_4504_11ea_b945_d8d090016e4frow1_col3 {\n",
       "            background-color:  #fff7fb;\n",
       "            color:  #000000;\n",
       "        }    #T_3a43fe2e_4504_11ea_b945_d8d090016e4frow1_col4 {\n",
       "            background-color:  #97b7d7;\n",
       "            color:  #000000;\n",
       "        }    #T_3a43fe2e_4504_11ea_b945_d8d090016e4frow1_col5 {\n",
       "            background-color:  #f3edf5;\n",
       "            color:  #000000;\n",
       "        }    #T_3a43fe2e_4504_11ea_b945_d8d090016e4frow1_col6 {\n",
       "            background-color:  #b8c6e0;\n",
       "            color:  #000000;\n",
       "        }    #T_3a43fe2e_4504_11ea_b945_d8d090016e4frow1_col7 {\n",
       "            background-color:  #e1dfed;\n",
       "            color:  #000000;\n",
       "        }    #T_3a43fe2e_4504_11ea_b945_d8d090016e4frow1_col8 {\n",
       "            background-color:  #e2dfee;\n",
       "            color:  #000000;\n",
       "        }    #T_3a43fe2e_4504_11ea_b945_d8d090016e4frow2_col0 {\n",
       "            background-color:  #bdc8e1;\n",
       "            color:  #000000;\n",
       "        }    #T_3a43fe2e_4504_11ea_b945_d8d090016e4frow2_col1 {\n",
       "            background-color:  #d0d1e6;\n",
       "            color:  #000000;\n",
       "        }    #T_3a43fe2e_4504_11ea_b945_d8d090016e4frow2_col2 {\n",
       "            background-color:  #023858;\n",
       "            color:  #f1f1f1;\n",
       "        }    #T_3a43fe2e_4504_11ea_b945_d8d090016e4frow2_col3 {\n",
       "            background-color:  #fbf3f9;\n",
       "            color:  #000000;\n",
       "        }    #T_3a43fe2e_4504_11ea_b945_d8d090016e4frow2_col4 {\n",
       "            background-color:  #f3edf5;\n",
       "            color:  #000000;\n",
       "        }    #T_3a43fe2e_4504_11ea_b945_d8d090016e4frow2_col5 {\n",
       "            background-color:  #fff7fb;\n",
       "            color:  #000000;\n",
       "        }    #T_3a43fe2e_4504_11ea_b945_d8d090016e4frow2_col6 {\n",
       "            background-color:  #80aed2;\n",
       "            color:  #000000;\n",
       "        }    #T_3a43fe2e_4504_11ea_b945_d8d090016e4frow2_col7 {\n",
       "            background-color:  #fff7fb;\n",
       "            color:  #000000;\n",
       "        }    #T_3a43fe2e_4504_11ea_b945_d8d090016e4frow2_col8 {\n",
       "            background-color:  #529bc7;\n",
       "            color:  #000000;\n",
       "        }    #T_3a43fe2e_4504_11ea_b945_d8d090016e4frow3_col0 {\n",
       "            background-color:  #a7bddb;\n",
       "            color:  #000000;\n",
       "        }    #T_3a43fe2e_4504_11ea_b945_d8d090016e4frow3_col1 {\n",
       "            background-color:  #f5eff6;\n",
       "            color:  #000000;\n",
       "        }    #T_3a43fe2e_4504_11ea_b945_d8d090016e4frow3_col2 {\n",
       "            background-color:  #fef6fa;\n",
       "            color:  #000000;\n",
       "        }    #T_3a43fe2e_4504_11ea_b945_d8d090016e4frow3_col3 {\n",
       "            background-color:  #023858;\n",
       "            color:  #f1f1f1;\n",
       "        }    #T_3a43fe2e_4504_11ea_b945_d8d090016e4frow3_col4 {\n",
       "            background-color:  #c4cbe3;\n",
       "            color:  #000000;\n",
       "        }    #T_3a43fe2e_4504_11ea_b945_d8d090016e4frow3_col5 {\n",
       "            background-color:  #dcdaeb;\n",
       "            color:  #000000;\n",
       "        }    #T_3a43fe2e_4504_11ea_b945_d8d090016e4frow3_col6 {\n",
       "            background-color:  #dedcec;\n",
       "            color:  #000000;\n",
       "        }    #T_3a43fe2e_4504_11ea_b945_d8d090016e4frow3_col7 {\n",
       "            background-color:  #adc1dd;\n",
       "            color:  #000000;\n",
       "        }    #T_3a43fe2e_4504_11ea_b945_d8d090016e4frow3_col8 {\n",
       "            background-color:  #d9d8ea;\n",
       "            color:  #000000;\n",
       "        }    #T_3a43fe2e_4504_11ea_b945_d8d090016e4frow4_col0 {\n",
       "            background-color:  #f4eef6;\n",
       "            color:  #000000;\n",
       "        }    #T_3a43fe2e_4504_11ea_b945_d8d090016e4frow4_col1 {\n",
       "            background-color:  #97b7d7;\n",
       "            color:  #000000;\n",
       "        }    #T_3a43fe2e_4504_11ea_b945_d8d090016e4frow4_col2 {\n",
       "            background-color:  #fff7fb;\n",
       "            color:  #000000;\n",
       "        }    #T_3a43fe2e_4504_11ea_b945_d8d090016e4frow4_col3 {\n",
       "            background-color:  #d2d3e7;\n",
       "            color:  #000000;\n",
       "        }    #T_3a43fe2e_4504_11ea_b945_d8d090016e4frow4_col4 {\n",
       "            background-color:  #023858;\n",
       "            color:  #f1f1f1;\n",
       "        }    #T_3a43fe2e_4504_11ea_b945_d8d090016e4frow4_col5 {\n",
       "            background-color:  #fdf5fa;\n",
       "            color:  #000000;\n",
       "        }    #T_3a43fe2e_4504_11ea_b945_d8d090016e4frow4_col6 {\n",
       "            background-color:  #fff7fb;\n",
       "            color:  #000000;\n",
       "        }    #T_3a43fe2e_4504_11ea_b945_d8d090016e4frow4_col7 {\n",
       "            background-color:  #d9d8ea;\n",
       "            color:  #000000;\n",
       "        }    #T_3a43fe2e_4504_11ea_b945_d8d090016e4frow4_col8 {\n",
       "            background-color:  #fff7fb;\n",
       "            color:  #000000;\n",
       "        }    #T_3a43fe2e_4504_11ea_b945_d8d090016e4frow5_col0 {\n",
       "            background-color:  #bdc8e1;\n",
       "            color:  #000000;\n",
       "        }    #T_3a43fe2e_4504_11ea_b945_d8d090016e4frow5_col1 {\n",
       "            background-color:  #ced0e6;\n",
       "            color:  #000000;\n",
       "        }    #T_3a43fe2e_4504_11ea_b945_d8d090016e4frow5_col2 {\n",
       "            background-color:  #ede8f3;\n",
       "            color:  #000000;\n",
       "        }    #T_3a43fe2e_4504_11ea_b945_d8d090016e4frow5_col3 {\n",
       "            background-color:  #bdc8e1;\n",
       "            color:  #000000;\n",
       "        }    #T_3a43fe2e_4504_11ea_b945_d8d090016e4frow5_col4 {\n",
       "            background-color:  #dbdaeb;\n",
       "            color:  #000000;\n",
       "        }    #T_3a43fe2e_4504_11ea_b945_d8d090016e4frow5_col5 {\n",
       "            background-color:  #023858;\n",
       "            color:  #f1f1f1;\n",
       "        }    #T_3a43fe2e_4504_11ea_b945_d8d090016e4frow5_col6 {\n",
       "            background-color:  #c0c9e2;\n",
       "            color:  #000000;\n",
       "        }    #T_3a43fe2e_4504_11ea_b945_d8d090016e4frow5_col7 {\n",
       "            background-color:  #dcdaeb;\n",
       "            color:  #000000;\n",
       "        }    #T_3a43fe2e_4504_11ea_b945_d8d090016e4frow5_col8 {\n",
       "            background-color:  #e8e4f0;\n",
       "            color:  #000000;\n",
       "        }    #T_3a43fe2e_4504_11ea_b945_d8d090016e4frow6_col0 {\n",
       "            background-color:  #d0d1e6;\n",
       "            color:  #000000;\n",
       "        }    #T_3a43fe2e_4504_11ea_b945_d8d090016e4frow6_col1 {\n",
       "            background-color:  #b8c6e0;\n",
       "            color:  #000000;\n",
       "        }    #T_3a43fe2e_4504_11ea_b945_d8d090016e4frow6_col2 {\n",
       "            background-color:  #93b5d6;\n",
       "            color:  #000000;\n",
       "        }    #T_3a43fe2e_4504_11ea_b945_d8d090016e4frow6_col3 {\n",
       "            background-color:  #eae6f1;\n",
       "            color:  #000000;\n",
       "        }    #T_3a43fe2e_4504_11ea_b945_d8d090016e4frow6_col4 {\n",
       "            background-color:  #fff7fb;\n",
       "            color:  #000000;\n",
       "        }    #T_3a43fe2e_4504_11ea_b945_d8d090016e4frow6_col5 {\n",
       "            background-color:  #eae6f1;\n",
       "            color:  #000000;\n",
       "        }    #T_3a43fe2e_4504_11ea_b945_d8d090016e4frow6_col6 {\n",
       "            background-color:  #023858;\n",
       "            color:  #f1f1f1;\n",
       "        }    #T_3a43fe2e_4504_11ea_b945_d8d090016e4frow6_col7 {\n",
       "            background-color:  #dbdaeb;\n",
       "            color:  #000000;\n",
       "        }    #T_3a43fe2e_4504_11ea_b945_d8d090016e4frow6_col8 {\n",
       "            background-color:  #bfc9e1;\n",
       "            color:  #000000;\n",
       "        }    #T_3a43fe2e_4504_11ea_b945_d8d090016e4frow7_col0 {\n",
       "            background-color:  #d0d1e6;\n",
       "            color:  #000000;\n",
       "        }    #T_3a43fe2e_4504_11ea_b945_d8d090016e4frow7_col1 {\n",
       "            background-color:  #d0d1e6;\n",
       "            color:  #000000;\n",
       "        }    #T_3a43fe2e_4504_11ea_b945_d8d090016e4frow7_col2 {\n",
       "            background-color:  #fef6fa;\n",
       "            color:  #000000;\n",
       "        }    #T_3a43fe2e_4504_11ea_b945_d8d090016e4frow7_col3 {\n",
       "            background-color:  #a7bddb;\n",
       "            color:  #000000;\n",
       "        }    #T_3a43fe2e_4504_11ea_b945_d8d090016e4frow7_col4 {\n",
       "            background-color:  #c5cce3;\n",
       "            color:  #000000;\n",
       "        }    #T_3a43fe2e_4504_11ea_b945_d8d090016e4frow7_col5 {\n",
       "            background-color:  #f0eaf4;\n",
       "            color:  #000000;\n",
       "        }    #T_3a43fe2e_4504_11ea_b945_d8d090016e4frow7_col6 {\n",
       "            background-color:  #c8cde4;\n",
       "            color:  #000000;\n",
       "        }    #T_3a43fe2e_4504_11ea_b945_d8d090016e4frow7_col7 {\n",
       "            background-color:  #023858;\n",
       "            color:  #f1f1f1;\n",
       "        }    #T_3a43fe2e_4504_11ea_b945_d8d090016e4frow7_col8 {\n",
       "            background-color:  #d6d6e9;\n",
       "            color:  #000000;\n",
       "        }    #T_3a43fe2e_4504_11ea_b945_d8d090016e4frow8_col0 {\n",
       "            background-color:  #c6cce3;\n",
       "            color:  #000000;\n",
       "        }    #T_3a43fe2e_4504_11ea_b945_d8d090016e4frow8_col1 {\n",
       "            background-color:  #cdd0e5;\n",
       "            color:  #000000;\n",
       "        }    #T_3a43fe2e_4504_11ea_b945_d8d090016e4frow8_col2 {\n",
       "            background-color:  #4c99c5;\n",
       "            color:  #000000;\n",
       "        }    #T_3a43fe2e_4504_11ea_b945_d8d090016e4frow8_col3 {\n",
       "            background-color:  #d1d2e6;\n",
       "            color:  #000000;\n",
       "        }    #T_3a43fe2e_4504_11ea_b945_d8d090016e4frow8_col4 {\n",
       "            background-color:  #efe9f3;\n",
       "            color:  #000000;\n",
       "        }    #T_3a43fe2e_4504_11ea_b945_d8d090016e4frow8_col5 {\n",
       "            background-color:  #f7f0f7;\n",
       "            color:  #000000;\n",
       "        }    #T_3a43fe2e_4504_11ea_b945_d8d090016e4frow8_col6 {\n",
       "            background-color:  #a5bddb;\n",
       "            color:  #000000;\n",
       "        }    #T_3a43fe2e_4504_11ea_b945_d8d090016e4frow8_col7 {\n",
       "            background-color:  #d3d4e7;\n",
       "            color:  #000000;\n",
       "        }    #T_3a43fe2e_4504_11ea_b945_d8d090016e4frow8_col8 {\n",
       "            background-color:  #023858;\n",
       "            color:  #f1f1f1;\n",
       "        }</style><table id=\"T_3a43fe2e_4504_11ea_b945_d8d090016e4f\" ><thead>    <tr>        <th class=\"blank level0\" ></th>        <th class=\"col_heading level0 col0\" >track_id</th>        <th class=\"col_heading level0 col1\" >acousticness</th>        <th class=\"col_heading level0 col2\" >danceability</th>        <th class=\"col_heading level0 col3\" >energy</th>        <th class=\"col_heading level0 col4\" >instrumentalness</th>        <th class=\"col_heading level0 col5\" >liveness</th>        <th class=\"col_heading level0 col6\" >speechiness</th>        <th class=\"col_heading level0 col7\" >tempo</th>        <th class=\"col_heading level0 col8\" >valence</th>    </tr></thead><tbody>\n",
       "                <tr>\n",
       "                        <th id=\"T_3a43fe2e_4504_11ea_b945_d8d090016e4flevel0_row0\" class=\"row_heading level0 row0\" >track_id</th>\n",
       "                        <td id=\"T_3a43fe2e_4504_11ea_b945_d8d090016e4frow0_col0\" class=\"data row0 col0\" >1</td>\n",
       "                        <td id=\"T_3a43fe2e_4504_11ea_b945_d8d090016e4frow0_col1\" class=\"data row0 col1\" >-0.372282</td>\n",
       "                        <td id=\"T_3a43fe2e_4504_11ea_b945_d8d090016e4frow0_col2\" class=\"data row0 col2\" >0.0494541</td>\n",
       "                        <td id=\"T_3a43fe2e_4504_11ea_b945_d8d090016e4frow0_col3\" class=\"data row0 col3\" >0.140703</td>\n",
       "                        <td id=\"T_3a43fe2e_4504_11ea_b945_d8d090016e4frow0_col4\" class=\"data row0 col4\" >-0.275623</td>\n",
       "                        <td id=\"T_3a43fe2e_4504_11ea_b945_d8d090016e4frow0_col5\" class=\"data row0 col5\" >0.0482307</td>\n",
       "                        <td id=\"T_3a43fe2e_4504_11ea_b945_d8d090016e4frow0_col6\" class=\"data row0 col6\" >-0.0269951</td>\n",
       "                        <td id=\"T_3a43fe2e_4504_11ea_b945_d8d090016e4frow0_col7\" class=\"data row0 col7\" >-0.0253918</td>\n",
       "                        <td id=\"T_3a43fe2e_4504_11ea_b945_d8d090016e4frow0_col8\" class=\"data row0 col8\" >0.0100698</td>\n",
       "            </tr>\n",
       "            <tr>\n",
       "                        <th id=\"T_3a43fe2e_4504_11ea_b945_d8d090016e4flevel0_row1\" class=\"row_heading level0 row1\" >acousticness</th>\n",
       "                        <td id=\"T_3a43fe2e_4504_11ea_b945_d8d090016e4frow1_col0\" class=\"data row1 col0\" >-0.372282</td>\n",
       "                        <td id=\"T_3a43fe2e_4504_11ea_b945_d8d090016e4frow1_col1\" class=\"data row1 col1\" >1</td>\n",
       "                        <td id=\"T_3a43fe2e_4504_11ea_b945_d8d090016e4frow1_col2\" class=\"data row1 col2\" >-0.0289537</td>\n",
       "                        <td id=\"T_3a43fe2e_4504_11ea_b945_d8d090016e4frow1_col3\" class=\"data row1 col3\" >-0.281619</td>\n",
       "                        <td id=\"T_3a43fe2e_4504_11ea_b945_d8d090016e4frow1_col4\" class=\"data row1 col4\" >0.19478</td>\n",
       "                        <td id=\"T_3a43fe2e_4504_11ea_b945_d8d090016e4frow1_col5\" class=\"data row1 col5\" >-0.0199914</td>\n",
       "                        <td id=\"T_3a43fe2e_4504_11ea_b945_d8d090016e4frow1_col6\" class=\"data row1 col6\" >0.072204</td>\n",
       "                        <td id=\"T_3a43fe2e_4504_11ea_b945_d8d090016e4frow1_col7\" class=\"data row1 col7\" >-0.0263097</td>\n",
       "                        <td id=\"T_3a43fe2e_4504_11ea_b945_d8d090016e4frow1_col8\" class=\"data row1 col8\" >-0.0138406</td>\n",
       "            </tr>\n",
       "            <tr>\n",
       "                        <th id=\"T_3a43fe2e_4504_11ea_b945_d8d090016e4flevel0_row2\" class=\"row_heading level0 row2\" >danceability</th>\n",
       "                        <td id=\"T_3a43fe2e_4504_11ea_b945_d8d090016e4frow2_col0\" class=\"data row2 col0\" >0.0494541</td>\n",
       "                        <td id=\"T_3a43fe2e_4504_11ea_b945_d8d090016e4frow2_col1\" class=\"data row2 col1\" >-0.0289537</td>\n",
       "                        <td id=\"T_3a43fe2e_4504_11ea_b945_d8d090016e4frow2_col2\" class=\"data row2 col2\" >1</td>\n",
       "                        <td id=\"T_3a43fe2e_4504_11ea_b945_d8d090016e4frow2_col3\" class=\"data row2 col3\" >-0.242032</td>\n",
       "                        <td id=\"T_3a43fe2e_4504_11ea_b945_d8d090016e4frow2_col4\" class=\"data row2 col4\" >-0.255217</td>\n",
       "                        <td id=\"T_3a43fe2e_4504_11ea_b945_d8d090016e4frow2_col5\" class=\"data row2 col5\" >-0.106584</td>\n",
       "                        <td id=\"T_3a43fe2e_4504_11ea_b945_d8d090016e4frow2_col6\" class=\"data row2 col6\" >0.276206</td>\n",
       "                        <td id=\"T_3a43fe2e_4504_11ea_b945_d8d090016e4frow2_col7\" class=\"data row2 col7\" >-0.242089</td>\n",
       "                        <td id=\"T_3a43fe2e_4504_11ea_b945_d8d090016e4frow2_col8\" class=\"data row2 col8\" >0.473165</td>\n",
       "            </tr>\n",
       "            <tr>\n",
       "                        <th id=\"T_3a43fe2e_4504_11ea_b945_d8d090016e4flevel0_row3\" class=\"row_heading level0 row3\" >energy</th>\n",
       "                        <td id=\"T_3a43fe2e_4504_11ea_b945_d8d090016e4frow3_col0\" class=\"data row3 col0\" >0.140703</td>\n",
       "                        <td id=\"T_3a43fe2e_4504_11ea_b945_d8d090016e4frow3_col1\" class=\"data row3 col1\" >-0.281619</td>\n",
       "                        <td id=\"T_3a43fe2e_4504_11ea_b945_d8d090016e4frow3_col2\" class=\"data row3 col2\" >-0.242032</td>\n",
       "                        <td id=\"T_3a43fe2e_4504_11ea_b945_d8d090016e4frow3_col3\" class=\"data row3 col3\" >1</td>\n",
       "                        <td id=\"T_3a43fe2e_4504_11ea_b945_d8d090016e4frow3_col4\" class=\"data row3 col4\" >0.0282377</td>\n",
       "                        <td id=\"T_3a43fe2e_4504_11ea_b945_d8d090016e4frow3_col5\" class=\"data row3 col5\" >0.113331</td>\n",
       "                        <td id=\"T_3a43fe2e_4504_11ea_b945_d8d090016e4frow3_col6\" class=\"data row3 col6\" >-0.109983</td>\n",
       "                        <td id=\"T_3a43fe2e_4504_11ea_b945_d8d090016e4frow3_col7\" class=\"data row3 col7\" >0.195227</td>\n",
       "                        <td id=\"T_3a43fe2e_4504_11ea_b945_d8d090016e4frow3_col8\" class=\"data row3 col8\" >0.0386027</td>\n",
       "            </tr>\n",
       "            <tr>\n",
       "                        <th id=\"T_3a43fe2e_4504_11ea_b945_d8d090016e4flevel0_row4\" class=\"row_heading level0 row4\" >instrumentalness</th>\n",
       "                        <td id=\"T_3a43fe2e_4504_11ea_b945_d8d090016e4frow4_col0\" class=\"data row4 col0\" >-0.275623</td>\n",
       "                        <td id=\"T_3a43fe2e_4504_11ea_b945_d8d090016e4frow4_col1\" class=\"data row4 col1\" >0.19478</td>\n",
       "                        <td id=\"T_3a43fe2e_4504_11ea_b945_d8d090016e4frow4_col2\" class=\"data row4 col2\" >-0.255217</td>\n",
       "                        <td id=\"T_3a43fe2e_4504_11ea_b945_d8d090016e4frow4_col3\" class=\"data row4 col3\" >0.0282377</td>\n",
       "                        <td id=\"T_3a43fe2e_4504_11ea_b945_d8d090016e4frow4_col4\" class=\"data row4 col4\" >1</td>\n",
       "                        <td id=\"T_3a43fe2e_4504_11ea_b945_d8d090016e4frow4_col5\" class=\"data row4 col5\" >-0.0910218</td>\n",
       "                        <td id=\"T_3a43fe2e_4504_11ea_b945_d8d090016e4frow4_col6\" class=\"data row4 col6\" >-0.366762</td>\n",
       "                        <td id=\"T_3a43fe2e_4504_11ea_b945_d8d090016e4frow4_col7\" class=\"data row4 col7\" >0.022215</td>\n",
       "                        <td id=\"T_3a43fe2e_4504_11ea_b945_d8d090016e4frow4_col8\" class=\"data row4 col8\" >-0.219967</td>\n",
       "            </tr>\n",
       "            <tr>\n",
       "                        <th id=\"T_3a43fe2e_4504_11ea_b945_d8d090016e4flevel0_row5\" class=\"row_heading level0 row5\" >liveness</th>\n",
       "                        <td id=\"T_3a43fe2e_4504_11ea_b945_d8d090016e4frow5_col0\" class=\"data row5 col0\" >0.0482307</td>\n",
       "                        <td id=\"T_3a43fe2e_4504_11ea_b945_d8d090016e4frow5_col1\" class=\"data row5 col1\" >-0.0199914</td>\n",
       "                        <td id=\"T_3a43fe2e_4504_11ea_b945_d8d090016e4frow5_col2\" class=\"data row5 col2\" >-0.106584</td>\n",
       "                        <td id=\"T_3a43fe2e_4504_11ea_b945_d8d090016e4frow5_col3\" class=\"data row5 col3\" >0.113331</td>\n",
       "                        <td id=\"T_3a43fe2e_4504_11ea_b945_d8d090016e4frow5_col4\" class=\"data row5 col4\" >-0.0910218</td>\n",
       "                        <td id=\"T_3a43fe2e_4504_11ea_b945_d8d090016e4frow5_col5\" class=\"data row5 col5\" >1</td>\n",
       "                        <td id=\"T_3a43fe2e_4504_11ea_b945_d8d090016e4frow5_col6\" class=\"data row5 col6\" >0.0411725</td>\n",
       "                        <td id=\"T_3a43fe2e_4504_11ea_b945_d8d090016e4frow5_col7\" class=\"data row5 col7\" >0.00273169</td>\n",
       "                        <td id=\"T_3a43fe2e_4504_11ea_b945_d8d090016e4frow5_col8\" class=\"data row5 col8\" >-0.0450931</td>\n",
       "            </tr>\n",
       "            <tr>\n",
       "                        <th id=\"T_3a43fe2e_4504_11ea_b945_d8d090016e4flevel0_row6\" class=\"row_heading level0 row6\" >speechiness</th>\n",
       "                        <td id=\"T_3a43fe2e_4504_11ea_b945_d8d090016e4frow6_col0\" class=\"data row6 col0\" >-0.0269951</td>\n",
       "                        <td id=\"T_3a43fe2e_4504_11ea_b945_d8d090016e4frow6_col1\" class=\"data row6 col1\" >0.072204</td>\n",
       "                        <td id=\"T_3a43fe2e_4504_11ea_b945_d8d090016e4frow6_col2\" class=\"data row6 col2\" >0.276206</td>\n",
       "                        <td id=\"T_3a43fe2e_4504_11ea_b945_d8d090016e4frow6_col3\" class=\"data row6 col3\" >-0.109983</td>\n",
       "                        <td id=\"T_3a43fe2e_4504_11ea_b945_d8d090016e4frow6_col4\" class=\"data row6 col4\" >-0.366762</td>\n",
       "                        <td id=\"T_3a43fe2e_4504_11ea_b945_d8d090016e4frow6_col5\" class=\"data row6 col5\" >0.0411725</td>\n",
       "                        <td id=\"T_3a43fe2e_4504_11ea_b945_d8d090016e4frow6_col6\" class=\"data row6 col6\" >1</td>\n",
       "                        <td id=\"T_3a43fe2e_4504_11ea_b945_d8d090016e4frow6_col7\" class=\"data row6 col7\" >0.00824055</td>\n",
       "                        <td id=\"T_3a43fe2e_4504_11ea_b945_d8d090016e4frow6_col8\" class=\"data row6 col8\" >0.149894</td>\n",
       "            </tr>\n",
       "            <tr>\n",
       "                        <th id=\"T_3a43fe2e_4504_11ea_b945_d8d090016e4flevel0_row7\" class=\"row_heading level0 row7\" >tempo</th>\n",
       "                        <td id=\"T_3a43fe2e_4504_11ea_b945_d8d090016e4frow7_col0\" class=\"data row7 col0\" >-0.0253918</td>\n",
       "                        <td id=\"T_3a43fe2e_4504_11ea_b945_d8d090016e4frow7_col1\" class=\"data row7 col1\" >-0.0263097</td>\n",
       "                        <td id=\"T_3a43fe2e_4504_11ea_b945_d8d090016e4frow7_col2\" class=\"data row7 col2\" >-0.242089</td>\n",
       "                        <td id=\"T_3a43fe2e_4504_11ea_b945_d8d090016e4frow7_col3\" class=\"data row7 col3\" >0.195227</td>\n",
       "                        <td id=\"T_3a43fe2e_4504_11ea_b945_d8d090016e4frow7_col4\" class=\"data row7 col4\" >0.022215</td>\n",
       "                        <td id=\"T_3a43fe2e_4504_11ea_b945_d8d090016e4frow7_col5\" class=\"data row7 col5\" >0.00273169</td>\n",
       "                        <td id=\"T_3a43fe2e_4504_11ea_b945_d8d090016e4frow7_col6\" class=\"data row7 col6\" >0.00824055</td>\n",
       "                        <td id=\"T_3a43fe2e_4504_11ea_b945_d8d090016e4frow7_col7\" class=\"data row7 col7\" >1</td>\n",
       "                        <td id=\"T_3a43fe2e_4504_11ea_b945_d8d090016e4frow7_col8\" class=\"data row7 col8\" >0.0522212</td>\n",
       "            </tr>\n",
       "            <tr>\n",
       "                        <th id=\"T_3a43fe2e_4504_11ea_b945_d8d090016e4flevel0_row8\" class=\"row_heading level0 row8\" >valence</th>\n",
       "                        <td id=\"T_3a43fe2e_4504_11ea_b945_d8d090016e4frow8_col0\" class=\"data row8 col0\" >0.0100698</td>\n",
       "                        <td id=\"T_3a43fe2e_4504_11ea_b945_d8d090016e4frow8_col1\" class=\"data row8 col1\" >-0.0138406</td>\n",
       "                        <td id=\"T_3a43fe2e_4504_11ea_b945_d8d090016e4frow8_col2\" class=\"data row8 col2\" >0.473165</td>\n",
       "                        <td id=\"T_3a43fe2e_4504_11ea_b945_d8d090016e4frow8_col3\" class=\"data row8 col3\" >0.0386027</td>\n",
       "                        <td id=\"T_3a43fe2e_4504_11ea_b945_d8d090016e4frow8_col4\" class=\"data row8 col4\" >-0.219967</td>\n",
       "                        <td id=\"T_3a43fe2e_4504_11ea_b945_d8d090016e4frow8_col5\" class=\"data row8 col5\" >-0.0450931</td>\n",
       "                        <td id=\"T_3a43fe2e_4504_11ea_b945_d8d090016e4frow8_col6\" class=\"data row8 col6\" >0.149894</td>\n",
       "                        <td id=\"T_3a43fe2e_4504_11ea_b945_d8d090016e4frow8_col7\" class=\"data row8 col7\" >0.0522212</td>\n",
       "                        <td id=\"T_3a43fe2e_4504_11ea_b945_d8d090016e4frow8_col8\" class=\"data row8 col8\" >1</td>\n",
       "            </tr>\n",
       "    </tbody></table>"
      ],
      "text/plain": [
       "<pandas.io.formats.style.Styler at 0x18d3fb6cc48>"
      ]
     },
     "execution_count": 3,
     "metadata": {},
     "output_type": "execute_result"
    }
   ],
   "source": [
    "# Create a correlation matrix\n",
    "import matplotlib.pyplot\n",
    "corr_metrics = echo_tracks.corr()\n",
    "corr_metrics.style.background_gradient()"
   ]
  },
  {
   "cell_type": "markdown",
   "metadata": {
    "dc": {
     "key": "17"
    },
    "deletable": false,
    "editable": false,
    "run_control": {
     "frozen": true
    },
    "tags": [
     "context"
    ]
   },
   "source": [
    "## 3. Normalizing the feature data\n",
    "<p>As mentioned earlier, it can be particularly useful to simplify our models and use as few features as necessary to achieve the best result. Since we didn't find any particular strong correlations between our features, we can instead use a common approach to reduce the number of features called <strong>principal component analysis (PCA)</strong>. </p>\n",
    "<p>It is possible that the variance between genres can be explained by just a few features in the dataset. PCA rotates the data along the axis of highest variance, thus allowing us to determine the relative contribution of each feature of our data towards the variance between classes. </p>\n",
    "<p>However, since PCA uses the absolute variance of a feature to rotate the data, a feature with a broader range of values will overpower and bias the algorithm relative to the other features. To avoid this, we must first normalize our data. There are a few methods to do this, but a common way is through <em>standardization</em>, such that all features have a mean = 0 and standard deviation = 1 (the resultant is a z-score).</p>"
   ]
  },
  {
   "cell_type": "code",
   "execution_count": 4,
   "metadata": {
    "dc": {
     "key": "17"
    },
    "scrolled": true,
    "tags": [
     "sample_code"
    ]
   },
   "outputs": [
    {
     "data": {
      "text/html": [
       "<div>\n",
       "<style scoped>\n",
       "    .dataframe tbody tr th:only-of-type {\n",
       "        vertical-align: middle;\n",
       "    }\n",
       "\n",
       "    .dataframe tbody tr th {\n",
       "        vertical-align: top;\n",
       "    }\n",
       "\n",
       "    .dataframe thead th {\n",
       "        text-align: right;\n",
       "    }\n",
       "</style>\n",
       "<table border=\"1\" class=\"dataframe\">\n",
       "  <thead>\n",
       "    <tr style=\"text-align: right;\">\n",
       "      <th></th>\n",
       "      <th>acousticness</th>\n",
       "      <th>danceability</th>\n",
       "      <th>energy</th>\n",
       "      <th>instrumentalness</th>\n",
       "      <th>liveness</th>\n",
       "      <th>speechiness</th>\n",
       "      <th>tempo</th>\n",
       "      <th>valence</th>\n",
       "    </tr>\n",
       "  </thead>\n",
       "  <tbody>\n",
       "    <tr>\n",
       "      <th>0</th>\n",
       "      <td>0.416675</td>\n",
       "      <td>0.675894</td>\n",
       "      <td>0.634476</td>\n",
       "      <td>0.010628</td>\n",
       "      <td>0.177647</td>\n",
       "      <td>0.159310</td>\n",
       "      <td>165.922</td>\n",
       "      <td>0.576661</td>\n",
       "    </tr>\n",
       "    <tr>\n",
       "      <th>1</th>\n",
       "      <td>0.374408</td>\n",
       "      <td>0.528643</td>\n",
       "      <td>0.817461</td>\n",
       "      <td>0.001851</td>\n",
       "      <td>0.105880</td>\n",
       "      <td>0.461818</td>\n",
       "      <td>126.957</td>\n",
       "      <td>0.269240</td>\n",
       "    </tr>\n",
       "    <tr>\n",
       "      <th>2</th>\n",
       "      <td>0.043567</td>\n",
       "      <td>0.745566</td>\n",
       "      <td>0.701470</td>\n",
       "      <td>0.000697</td>\n",
       "      <td>0.373143</td>\n",
       "      <td>0.124595</td>\n",
       "      <td>100.260</td>\n",
       "      <td>0.621661</td>\n",
       "    </tr>\n",
       "    <tr>\n",
       "      <th>3</th>\n",
       "      <td>0.452217</td>\n",
       "      <td>0.513238</td>\n",
       "      <td>0.560410</td>\n",
       "      <td>0.019443</td>\n",
       "      <td>0.096567</td>\n",
       "      <td>0.525519</td>\n",
       "      <td>114.290</td>\n",
       "      <td>0.894072</td>\n",
       "    </tr>\n",
       "    <tr>\n",
       "      <th>4</th>\n",
       "      <td>0.988306</td>\n",
       "      <td>0.255661</td>\n",
       "      <td>0.979774</td>\n",
       "      <td>0.973006</td>\n",
       "      <td>0.121342</td>\n",
       "      <td>0.051740</td>\n",
       "      <td>90.241</td>\n",
       "      <td>0.034018</td>\n",
       "    </tr>\n",
       "  </tbody>\n",
       "</table>\n",
       "</div>"
      ],
      "text/plain": [
       "   acousticness  danceability    energy  instrumentalness  liveness  \\\n",
       "0      0.416675      0.675894  0.634476          0.010628  0.177647   \n",
       "1      0.374408      0.528643  0.817461          0.001851  0.105880   \n",
       "2      0.043567      0.745566  0.701470          0.000697  0.373143   \n",
       "3      0.452217      0.513238  0.560410          0.019443  0.096567   \n",
       "4      0.988306      0.255661  0.979774          0.973006  0.121342   \n",
       "\n",
       "   speechiness    tempo   valence  \n",
       "0     0.159310  165.922  0.576661  \n",
       "1     0.461818  126.957  0.269240  \n",
       "2     0.124595  100.260  0.621661  \n",
       "3     0.525519  114.290  0.894072  \n",
       "4     0.051740   90.241  0.034018  "
      ]
     },
     "execution_count": 4,
     "metadata": {},
     "output_type": "execute_result"
    }
   ],
   "source": [
    "# Filter out quantitative features and drop 'track_id' and labels 'genre_top'\n",
    "features = echo_tracks.drop(columns=['track_id', 'genre_top'])\n",
    "features.head()"
   ]
  },
  {
   "cell_type": "code",
   "execution_count": 5,
   "metadata": {},
   "outputs": [
    {
     "data": {
      "text/plain": [
       "0    Hip-Hop\n",
       "1    Hip-Hop\n",
       "2    Hip-Hop\n",
       "3    Hip-Hop\n",
       "4       Rock\n",
       "Name: genre_top, dtype: object"
      ]
     },
     "execution_count": 5,
     "metadata": {},
     "output_type": "execute_result"
    }
   ],
   "source": [
    "#Filter out labels 'genre_top'\n",
    "labels = echo_tracks['genre_top']\n",
    "labels.head()"
   ]
  },
  {
   "cell_type": "code",
   "execution_count": 6,
   "metadata": {},
   "outputs": [],
   "source": [
    "# Import the StandardScaler class and instanciate it\n",
    "from sklearn.preprocessing import StandardScaler\n",
    "scaler = StandardScaler()\n",
    "\n",
    "# Scale the quantitative features i.e replace each value of a feature x by [(value-mean(x))/std(x)]\n",
    "scaled_train_features = scaler.fit_transform(features)"
   ]
  },
  {
   "cell_type": "markdown",
   "metadata": {
    "dc": {
     "key": "24"
    },
    "deletable": false,
    "editable": false,
    "run_control": {
     "frozen": true
    },
    "tags": [
     "context"
    ]
   },
   "source": [
    "## 4. Principal Component Analysis on our scaled data\n",
    "<p>Now that we have preprocessed our data, we are ready to use PCA to determine by how much we can reduce the dimensionality of our data. We can use <strong>scree-plots</strong> and <strong>cumulative explained ratio plots</strong> to find the number of components to use in further analyses.</p>\n",
    "<p>Scree-plots display the number of components against the variance explained by each component, sorted in descending order of variance. Scree-plots help us get a better sense of which components explain a sufficient amount of variance in our data. When using scree plots, an 'elbow' (a steep drop from one data point to the next) in the plot is typically used to decide on an appropriate cutoff.</p>"
   ]
  },
  {
   "cell_type": "code",
   "execution_count": 7,
   "metadata": {
    "dc": {
     "key": "24"
    },
    "tags": [
     "sample_code"
    ]
   },
   "outputs": [
    {
     "data": {
      "text/plain": [
       "Text(0, 0.5, 'Explained Variance')"
      ]
     },
     "execution_count": 7,
     "metadata": {},
     "output_type": "execute_result"
    },
    {
     "data": {
      "image/png": "[encoded data removed]",
      "text/plain": [
       "<Figure size 432x288 with 1 Axes>"
      ]
     },
     "metadata": {
      "needs_background": "light"
     },
     "output_type": "display_data"
    }
   ],
   "source": [
    "# This is just to make plots appear in the notebook\n",
    "%matplotlib inline\n",
    "\n",
    "# Import our plotting module, and PCA class\n",
    "import matplotlib.pyplot as plt\n",
    "from sklearn.decomposition import PCA\n",
    "\n",
    "# Get our explained variance ratios from PCA using all features\n",
    "pca = PCA()\n",
    "pca.fit(scaled_train_features)\n",
    "exp_variance = pca.explained_variance_ratio_\n",
    "\n",
    "# plot the explained variance using a barplot\n",
    "fig, ax = plt.subplots()\n",
    "ax.bar(range(len(exp_variance)),exp_variance)\n",
    "ax.set_xlabel('Principal Component #')\n",
    "ax.set_ylabel('Explained Variance')"
   ]
  },
  {
   "cell_type": "markdown",
   "metadata": {
    "dc": {
     "key": "31"
    },
    "deletable": false,
    "editable": false,
    "run_control": {
     "frozen": true
    },
    "tags": [
     "context"
    ]
   },
   "source": [
    "## 5. Further visualization of PCA\n",
    "<p>Unfortunately, there does not appear to be a clear elbow in this scree plot, which means it is not straightforward to find the number of intrinsic dimensions using this method. </p>\n",
    "<p>But all is not lost! Instead, we can also look at the <strong>cumulative explained variance plot</strong> to determine how many features are required to explain, say, about 90% of the variance (cutoffs are somewhat arbitrary here, and usually decided upon by 'rules of thumb'). Once we determine the appropriate number of components, we can perform PCA with that many components, ideally reducing the dimensionality of our data.</p>"
   ]
  },
  {
   "cell_type": "code",
   "execution_count": 8,
   "metadata": {
    "dc": {
     "key": "31"
    },
    "tags": [
     "sample_code"
    ]
   },
   "outputs": [
    {
     "data": {
      "image/png": "[encoded data removed]",
      "text/plain": [
       "<Figure size 432x288 with 1 Axes>"
      ]
     },
     "metadata": {
      "needs_background": "light"
     },
     "output_type": "display_data"
    }
   ],
   "source": [
    "# Import numpy\n",
    "import numpy as np\n",
    "\n",
    "# Calculate the cumulative explained variance\n",
    "cum_exp_variance = np.cumsum(exp_variance)\n",
    "\n",
    "# Plot the cumulative explained variance and draw a dashed line at 0.90.\n",
    "fig, ax = plt.subplots()\n",
    "ax.bar(range(1, len(cum_exp_variance) + 1), cum_exp_variance)\n",
    "ax.axhline(y = 0.9, linestyle='--')\n",
    "n_components = 6\n",
    "\n",
    "# Perform PCA with the chosen number of components and project data onto components\n",
    "pca = PCA(n_components, random_state=10)\n",
    "pca.fit(scaled_train_features)\n",
    "pca_projection = pca.transform(scaled_train_features)"
   ]
  },
  {
   "cell_type": "markdown",
   "metadata": {
    "dc": {
     "key": "38"
    },
    "deletable": false,
    "editable": false,
    "run_control": {
     "frozen": true
    },
    "tags": [
     "context"
    ]
   },
   "source": [
    "## 6. Train a decision tree to classify genre\n",
    "<p>Now we can use the lower dimensional PCA projection of the data to classify songs into genres. To do that, we first need to split our dataset into 'train' and 'test' subsets, where the 'train' subset will be used to train our model while the 'test' dataset allows for model performance validation.</p>\n",
    "<p>Here, we will be using a simple algorithm known as a decision tree. Decision trees are rule-based classifiers that take in features and follow a 'tree structure' of binary decisions to ultimately classify a data point into one of two or more categories. In addition to being easy to both use and interpret, decision trees allow us to visualize the 'logic flowchart' that the model generates from the training data.</p>\n",
    "<p>Here is an example of a decision tree that demonstrates the process by which an input image (in this case, of a shape) might be classified based on the number of sides it has and whether it is rotated.</p>\n",
    "<p><img src=\"https://s3.amazonaws.com/assets.datacamp.com/production/project_449/img/simple_decision_tree.png\" alt=\"Decision Tree Flow Chart Example\" width=\"350px\"></p>"
   ]
  },
  {
   "cell_type": "code",
   "execution_count": 9,
   "metadata": {
    "dc": {
     "key": "38"
    },
    "tags": [
     "sample_code"
    ]
   },
   "outputs": [],
   "source": [
    "# Import train_test_split function and Decision tree classifier\n",
    "from sklearn.model_selection import train_test_split\n",
    "from sklearn.tree import DecisionTreeClassifier\n",
    "\n",
    "# Split our data\n",
    "train_features, test_features, train_labels, test_labels = train_test_split(pca_projection, labels, random_state=10)\n",
    "\n",
    "# Train our decision tree\n",
    "tree = DecisionTreeClassifier(random_state = 10)\n",
    "\n",
    "tree.fit(train_features, train_labels)\n",
    "\n",
    "# Predict the labels for the test data\n",
    "pred_labels_tree = tree.predict(test_features)"
   ]
  },
  {
   "cell_type": "markdown",
   "metadata": {
    "dc": {
     "key": "45"
    },
    "deletable": false,
    "editable": false,
    "run_control": {
     "frozen": true
    },
    "tags": [
     "context"
    ]
   },
   "source": [
    "## 7. Compare our decision tree to a logistic regression\n",
    "<p>Although our tree's performance is decent, it's a bad idea to immediately assume that it's therefore the perfect tool for this job -- there's always the possibility of other models that will perform even better! It's always a worthwhile idea to at least test a few other algorithms and find the one that's best for our data.</p>\n",
    "<p>Sometimes simplest is best, and so we will start by applying <strong>logistic regression</strong>. Logistic regression makes use of what's called the logistic function to calculate the odds that a given data point belongs to a given class. Once we have both models, we can compare them on a few performance metrics, such as false positive and false negative rate (or how many points are inaccurately classified). </p>"
   ]
  },
  {
   "cell_type": "code",
   "execution_count": 10,
   "metadata": {
    "dc": {
     "key": "45"
    },
    "tags": [
     "sample_code"
    ]
   },
   "outputs": [
    {
     "name": "stdout",
     "output_type": "stream",
     "text": [
      "Decision Tree: \n",
      "               precision    recall  f1-score   support\n",
      "\n",
      "     Hip-Hop       0.60      0.60      0.60       235\n",
      "        Rock       0.90      0.90      0.90       966\n",
      "\n",
      "    accuracy                           0.84      1201\n",
      "   macro avg       0.75      0.75      0.75      1201\n",
      "weighted avg       0.84      0.84      0.84      1201\n",
      "\n",
      "Logistic Regression: \n",
      "               precision    recall  f1-score   support\n",
      "\n",
      "     Hip-Hop       0.77      0.54      0.64       235\n",
      "        Rock       0.90      0.96      0.93       966\n",
      "\n",
      "    accuracy                           0.88      1201\n",
      "   macro avg       0.83      0.75      0.78      1201\n",
      "weighted avg       0.87      0.88      0.87      1201\n",
      "\n"
     ]
    }
   ],
   "source": [
    "# Import LogisticRegression\n",
    "from sklearn.linear_model import LogisticRegression\n",
    "\n",
    "# Train our logistic regression and predict labels for the test set\n",
    "logreg = LogisticRegression(random_state = 10)\n",
    "logreg.fit(train_features, train_labels)\n",
    "pred_labels_logit = logreg.predict(test_features)\n",
    "\n",
    "\n",
    "# Create the classification report for both models\n",
    "from sklearn.metrics import classification_report\n",
    "class_rep_tree = classification_report(test_labels, pred_labels_tree)\n",
    "class_rep_log = classification_report(test_labels, pred_labels_logit)\n",
    "\n",
    "print(\"Decision Tree: \\n\", class_rep_tree)\n",
    "print(\"Logistic Regression: \\n\", class_rep_log)"
   ]
  },
  {
   "cell_type": "markdown",
   "metadata": {
    "dc": {
     "key": "52"
    },
    "deletable": false,
    "editable": false,
    "run_control": {
     "frozen": true
    },
    "tags": [
     "context"
    ]
   },
   "source": [
    "## 8. Balance our data for greater performance\n",
    "<p>Both our models do similarly well, boasting an average precision of 87% each. However, looking at our classification report, we can see that rock songs are fairly well classified, but hip-hop songs are disproportionately misclassified as rock songs. </p>\n",
    "<p>Why might this be the case? Well, just by looking at the number of data points we have for each class, we see that we have far more data points for the rock classification than for hip-hop, potentially skewing our model's ability to distinguish between classes. This also tells us that most of our model's accuracy is driven by its ability to classify just rock songs, which is less than ideal.</p>\n",
    "<p>To account for this, we can weight the value of a correct classification in each class inversely to the occurrence of data points for each class. Since a correct classification for \"Rock\" is not more important than a correct classification for \"Hip-Hop\" (and vice versa), we only need to account for differences in <em>sample size</em> of our data points when weighting our classes here, and not relative importance of each class. </p>"
   ]
  },
  {
   "cell_type": "code",
   "execution_count": 11,
   "metadata": {
    "dc": {
     "key": "52"
    },
    "tags": [
     "sample_code"
    ]
   },
   "outputs": [],
   "source": [
    "# Subset only the hip-hop tracks, and then only the rock tracks\n",
    "hop_only = echo_tracks.loc[echo_tracks['genre_top'] == 'Hip-Hop']\n",
    "\n",
    "# sample the rocks songs to be the same number as there are hip-hop songs\n",
    "rock_only = echo_tracks.loc[echo_tracks['genre_top'] == 'Rock'].sample(len(hop_only), random_state=10)\n",
    "\n",
    "# concatenate the dataframes rock_only and hop_only\n",
    "rock_hop_bal = pd.concat([rock_only, hop_only])\n",
    "\n",
    "# The features, labels, and pca projection are created for the balanced dataframe\n",
    "features = rock_hop_bal.drop(['genre_top', 'track_id'], axis=1) \n",
    "labels = rock_hop_bal['genre_top']\n",
    "pca_projection = pca.fit_transform(scaler.fit_transform(features))\n",
    "\n",
    "# Redefine the train and test set with the pca_projection from the balanced data\n",
    "train_features, test_features, train_labels, test_labels = train_test_split(pca_projection, labels, random_state=10)"
   ]
  },
  {
   "cell_type": "markdown",
   "metadata": {
    "dc": {
     "key": "59"
    },
    "deletable": false,
    "editable": false,
    "run_control": {
     "frozen": true
    },
    "tags": [
     "context"
    ]
   },
   "source": [
    "## 9. Does balancing our dataset improve model bias?\n",
    "<p>We've now balanced our dataset, but in doing so, we've removed a lot of data points that might have been crucial to training our models. Let's test to see if balancing our data improves model bias towards the \"Rock\" classification while retaining overall classification performance. </p>\n",
    "<p>Note that we have already reduced the size of our dataset and will go forward without applying any dimensionality reduction. In practice, we would consider dimensionality reduction more rigorously when dealing with vastly large datasets and when computation times become prohibitively large.</p>"
   ]
  },
  {
   "cell_type": "code",
   "execution_count": 12,
   "metadata": {
    "dc": {
     "key": "59"
    },
    "tags": [
     "sample_code"
    ]
   },
   "outputs": [
    {
     "name": "stdout",
     "output_type": "stream",
     "text": [
      "Decision Tree: \n",
      "               precision    recall  f1-score   support\n",
      "\n",
      "     Hip-Hop       0.74      0.73      0.74       230\n",
      "        Rock       0.73      0.74      0.73       225\n",
      "\n",
      "    accuracy                           0.74       455\n",
      "   macro avg       0.74      0.74      0.74       455\n",
      "weighted avg       0.74      0.74      0.74       455\n",
      "\n",
      "Logistic Regression: \n",
      "               precision    recall  f1-score   support\n",
      "\n",
      "     Hip-Hop       0.84      0.80      0.82       230\n",
      "        Rock       0.80      0.85      0.83       225\n",
      "\n",
      "    accuracy                           0.82       455\n",
      "   macro avg       0.82      0.82      0.82       455\n",
      "weighted avg       0.82      0.82      0.82       455\n",
      "\n"
     ]
    }
   ],
   "source": [
    "# Train our decision tree on the balanced data\n",
    "tree.fit(train_features, train_labels)\n",
    "pred_labels_tree = tree.predict(test_features)\n",
    "\n",
    "# Train our logistic regression on the balanced data\n",
    "logreg_final = LogisticRegression(random_state=10)\n",
    "logreg_final.fit(train_features, train_labels)\n",
    "pred_labels_logit = logreg_final.predict(test_features)\n",
    "\n",
    "# Compare the models\n",
    "print(\"Decision Tree: \\n\", classification_report(test_labels, pred_labels_tree))\n",
    "print(\"Logistic Regression: \\n\", classification_report(test_labels, pred_labels_logit))"
   ]
  },
  {
   "cell_type": "markdown",
   "metadata": {
    "dc": {
     "key": "66"
    },
    "editable": false,
    "run_control": {
     "frozen": true
    },
    "tags": [
     "context"
    ]
   },
   "source": [
    "## 10. Using cross-validation to evaluate our models\n",
    "<p>Success! Balancing our data has removed bias towards the more prevalent class. To get a good sense of how well our models are actually performing, we can apply what's called <strong>cross-validation</strong> (CV). This step allows us to compare models in a more rigorous fashion.</p>\n",
    "<p>Since the way our data is split into train and test sets can impact model performance, CV attempts to split the data multiple ways and test the model on each of the splits. Although there are many different CV methods, all with their own advantages and disadvantages, we will use what's known as <strong>K-fold</strong> CV here. K-fold first splits the data into K different, equally sized subsets. Then, it iteratively uses each subset as a test set while using the remainder of the data as train sets. Finally, we can then aggregate the results from each fold for a final model performance score.</p>"
   ]
  },
  {
   "cell_type": "code",
   "execution_count": 13,
   "metadata": {
    "dc": {
     "key": "66"
    },
    "scrolled": true,
    "tags": [
     "sample_code"
    ]
   },
   "outputs": [
    {
     "name": "stdout",
     "output_type": "stream",
     "text": [
      "Tree score :  0.7489010989010989 , Logit score :  0.782967032967033\n"
     ]
    }
   ],
   "source": [
    "from sklearn.model_selection import KFold, cross_val_score\n",
    "\n",
    "# Set up our K-fold cross-validation\n",
    "kf = KFold(n_splits = 10)\n",
    "\n",
    "tree = DecisionTreeClassifier(random_state = 10)\n",
    "logreg = LogisticRegression(random_state = 10)\n",
    "\n",
    "# Train our models using KFold cv\n",
    "tree_score = cross_val_score(tree, pca_projection, labels, cv=kf)\n",
    "logit_score = cross_val_score(logreg, pca_projection, labels, cv=kf)\n",
    "\n",
    "print('Tree score : ', np.mean(tree_score),', Logit score : ', np.mean(logit_score))\n"
   ]
  },
  {
   "cell_type": "markdown",
   "metadata": {
    "dc": {
     "key": "66"
    },
    "deletable": false,
    "run_control": {
     "frozen": true
    },
    "tags": [
     "context"
    ]
   },
   "source": [
    "# 11. Exporting the model\n",
    "<p>We conclude from the previous step that the Logistic Regression model is the better one (better cross val score) and we save it \"logreg_final\" by serializing the model into a pickle file, using <strong>joblib</strong> library. \n",
    "<p>The code used to process input variables and reduce their dimension to 6 components fed into the model, will be required on the prediction server. The dataset column names are equally saved. </p>"
   ]
  },
  {
   "cell_type": "code",
   "execution_count": 14,
   "metadata": {
    "dc": {
     "key": "66"
    },
    "tags": [
     "sample_code"
    ]
   },
   "outputs": [
    {
     "data": {
      "text/plain": [
       "['logreg_columns.pkl']"
      ]
     },
     "execution_count": 14,
     "metadata": {},
     "output_type": "execute_result"
    }
   ],
   "source": [
    "import joblib\n",
    "joblib.dump(logreg_final, 'logreg.pkl')\n",
    "\n",
    "model_columns = list(features.columns)\n",
    "joblib.dump(model_columns, 'logreg_columns.pkl')"
   ]
  }
 ],
 "metadata": {
  "kernelspec": {
   "display_name": "Python 3",
   "language": "python",
   "name": "python3"
  },
  "language_info": {
   "codemirror_mode": {
    "name": "ipython",
    "version": 3
   },
   "file_extension": ".py",
   "mimetype": "text/x-python",
   "name": "python",
   "nbconvert_exporter": "python",
   "pygments_lexer": "ipython3",
   "version": "3.7.6"
  }
 },
 "nbformat": 4,
 "nbformat_minor": 2
}
